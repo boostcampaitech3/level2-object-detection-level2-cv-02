{
 "cells": [
  {
   "cell_type": "code",
   "execution_count": 13,
   "id": "3fd75793",
   "metadata": {},
   "outputs": [],
   "source": [
    "import mmcv\n",
    "from mmcv import Config\n",
    "from mmdet.datasets import (build_dataloader, build_dataset,\n",
    "                            replace_ImageToTensor)\n",
    "from mmdet.models import build_detector\n",
    "\n",
    "from mmdet.apis import single_gpu_test\n",
    "from mmcv.runner import load_checkpoint\n",
    "import os\n",
    "from mmcv.parallel import MMDataParallel\n",
    "import pandas as pd\n",
    "from pandas import DataFrame\n",
    "from pycocotools.coco import COCO\n",
    "import numpy as np"
   ]
  },
  {
   "cell_type": "code",
   "execution_count": 14,
   "id": "edda58ea",
   "metadata": {},
   "outputs": [],
   "source": [
    "classes = (\"General trash\", \"Paper\", \"Paper pack\", \"Metal\", \"Glass\", \n",
    "           \"Plastic\", \"Styrofoam\", \"Plastic bag\", \"Battery\", \"Clothing\")\n",
    "\n",
    "# config file 들고오기\n",
    "cfg = Config.fromfile('../configs/universenet/universenet101_2008d_fp16_4x4_mstrain_480_960_20e_coco.py')\n",
    "\n",
    "root='../../../dataset/'\n",
    "\n",
    "epoch = 'epoch_24'\n",
    "\n",
    "# dataset config 수정\n",
    "cfg.data.test.classes = classes\n",
    "cfg.data.test.img_prefix = root\n",
    "cfg.data.test.ann_file = root + 'test.json'\n",
    "#cfg.data.test.pipeline[1]['img_scale'] = (512,512) # Resize\n",
    "cfg.data.test.test_mode = True\n",
    "\n",
    "cfg.data.samples_per_gpu = 4\n",
    "\n",
    "cfg.seed=2021\n",
    "cfg.gpu_ids = [1]\n",
    "cfg.work_dir = './work_dirs/universenet101_2008d_fp16_4x4_mstrain_480_960_20e_coco'\n",
    "\n",
    "#cfg.model.roi_head.bbox_head.num_classes = 10\n",
    "\n",
    "cfg.optimizer_config.grad_clip = dict(max_norm=35, norm_type=2)\n",
    "cfg.model.train_cfg = None"
   ]
  },
  {
   "cell_type": "code",
   "execution_count": 15,
   "id": "b086a8cf",
   "metadata": {},
   "outputs": [
    {
     "name": "stdout",
     "output_type": "stream",
     "text": [
      "loading annotations into memory...\n",
      "Done (t=0.01s)\n",
      "creating index...\n",
      "index created!\n"
     ]
    }
   ],
   "source": [
    "# build dataset & dataloader\n",
    "dataset = build_dataset(cfg.data.test)\n",
    "data_loader = build_dataloader(\n",
    "        dataset,\n",
    "        samples_per_gpu=1,\n",
    "        workers_per_gpu=cfg.data.workers_per_gpu,\n",
    "        dist=False,\n",
    "        shuffle=False)"
   ]
  },
  {
   "cell_type": "code",
   "execution_count": 16,
   "id": "83b3eae6",
   "metadata": {},
   "outputs": [
    {
     "name": "stderr",
     "output_type": "stream",
     "text": [
      "/opt/ml/detection/baseline/UniverseNet/mmdet/models/dense_heads/anchor_head.py:116: UserWarning: DeprecationWarning: `num_anchors` is deprecated, for consistency or also use `num_base_priors` instead\n",
      "  warnings.warn('DeprecationWarning: `num_anchors` is deprecated, '\n"
     ]
    },
    {
     "name": "stdout",
     "output_type": "stream",
     "text": [
      "load checkpoint from local path: ./work_dirs/universenet101_2008d_fp16_4x4_mstrain_480_960_20e_coco/epoch_24.pth\n"
     ]
    },
    {
     "name": "stderr",
     "output_type": "stream",
     "text": [
      "2022-04-07 04:53:51,286 - root - INFO - DeformConv2dPack backbone.layer2.0.convs.0 is upgraded to version 2.\n",
      "2022-04-07 04:53:51,288 - root - INFO - DeformConv2dPack backbone.layer2.0.convs.1 is upgraded to version 2.\n",
      "2022-04-07 04:53:51,291 - root - INFO - DeformConv2dPack backbone.layer2.0.convs.2 is upgraded to version 2.\n",
      "2022-04-07 04:53:51,295 - root - INFO - DeformConv2dPack backbone.layer2.1.convs.0 is upgraded to version 2.\n",
      "2022-04-07 04:53:51,296 - root - INFO - DeformConv2dPack backbone.layer2.1.convs.1 is upgraded to version 2.\n",
      "2022-04-07 04:53:51,298 - root - INFO - DeformConv2dPack backbone.layer2.1.convs.2 is upgraded to version 2.\n",
      "2022-04-07 04:53:51,303 - root - INFO - DeformConv2dPack backbone.layer2.2.convs.0 is upgraded to version 2.\n",
      "2022-04-07 04:53:51,304 - root - INFO - DeformConv2dPack backbone.layer2.2.convs.1 is upgraded to version 2.\n",
      "2022-04-07 04:53:51,305 - root - INFO - DeformConv2dPack backbone.layer2.2.convs.2 is upgraded to version 2.\n",
      "2022-04-07 04:53:51,309 - root - INFO - DeformConv2dPack backbone.layer2.3.convs.0 is upgraded to version 2.\n",
      "2022-04-07 04:53:51,311 - root - INFO - DeformConv2dPack backbone.layer2.3.convs.1 is upgraded to version 2.\n",
      "2022-04-07 04:53:51,312 - root - INFO - DeformConv2dPack backbone.layer2.3.convs.2 is upgraded to version 2.\n",
      "2022-04-07 04:53:51,318 - root - INFO - DeformConv2dPack backbone.layer3.0.convs.0 is upgraded to version 2.\n",
      "2022-04-07 04:53:51,320 - root - INFO - DeformConv2dPack backbone.layer3.0.convs.1 is upgraded to version 2.\n",
      "2022-04-07 04:53:51,322 - root - INFO - DeformConv2dPack backbone.layer3.0.convs.2 is upgraded to version 2.\n",
      "2022-04-07 04:53:51,327 - root - INFO - DeformConv2dPack backbone.layer3.1.convs.0 is upgraded to version 2.\n",
      "2022-04-07 04:53:51,330 - root - INFO - DeformConv2dPack backbone.layer3.1.convs.1 is upgraded to version 2.\n",
      "2022-04-07 04:53:51,332 - root - INFO - DeformConv2dPack backbone.layer3.1.convs.2 is upgraded to version 2.\n",
      "2022-04-07 04:53:51,337 - root - INFO - DeformConv2dPack backbone.layer3.2.convs.0 is upgraded to version 2.\n",
      "2022-04-07 04:53:51,340 - root - INFO - DeformConv2dPack backbone.layer3.2.convs.1 is upgraded to version 2.\n",
      "2022-04-07 04:53:51,342 - root - INFO - DeformConv2dPack backbone.layer3.2.convs.2 is upgraded to version 2.\n",
      "2022-04-07 04:53:51,347 - root - INFO - DeformConv2dPack backbone.layer3.3.convs.0 is upgraded to version 2.\n",
      "2022-04-07 04:53:51,350 - root - INFO - DeformConv2dPack backbone.layer3.3.convs.1 is upgraded to version 2.\n",
      "2022-04-07 04:53:51,352 - root - INFO - DeformConv2dPack backbone.layer3.3.convs.2 is upgraded to version 2.\n",
      "2022-04-07 04:53:51,357 - root - INFO - DeformConv2dPack backbone.layer3.4.convs.0 is upgraded to version 2.\n",
      "2022-04-07 04:53:51,360 - root - INFO - DeformConv2dPack backbone.layer3.4.convs.1 is upgraded to version 2.\n",
      "2022-04-07 04:53:51,362 - root - INFO - DeformConv2dPack backbone.layer3.4.convs.2 is upgraded to version 2.\n",
      "2022-04-07 04:53:51,367 - root - INFO - DeformConv2dPack backbone.layer3.5.convs.0 is upgraded to version 2.\n",
      "2022-04-07 04:53:51,370 - root - INFO - DeformConv2dPack backbone.layer3.5.convs.1 is upgraded to version 2.\n",
      "2022-04-07 04:53:51,372 - root - INFO - DeformConv2dPack backbone.layer3.5.convs.2 is upgraded to version 2.\n",
      "2022-04-07 04:53:51,377 - root - INFO - DeformConv2dPack backbone.layer3.6.convs.0 is upgraded to version 2.\n",
      "2022-04-07 04:53:51,379 - root - INFO - DeformConv2dPack backbone.layer3.6.convs.1 is upgraded to version 2.\n",
      "2022-04-07 04:53:51,382 - root - INFO - DeformConv2dPack backbone.layer3.6.convs.2 is upgraded to version 2.\n",
      "2022-04-07 04:53:51,408 - root - INFO - DeformConv2dPack backbone.layer3.7.convs.0 is upgraded to version 2.\n",
      "2022-04-07 04:53:51,412 - root - INFO - DeformConv2dPack backbone.layer3.7.convs.1 is upgraded to version 2.\n",
      "2022-04-07 04:53:51,415 - root - INFO - DeformConv2dPack backbone.layer3.7.convs.2 is upgraded to version 2.\n",
      "2022-04-07 04:53:51,429 - root - INFO - DeformConv2dPack backbone.layer3.8.convs.0 is upgraded to version 2.\n",
      "2022-04-07 04:53:51,432 - root - INFO - DeformConv2dPack backbone.layer3.8.convs.1 is upgraded to version 2.\n",
      "2022-04-07 04:53:51,435 - root - INFO - DeformConv2dPack backbone.layer3.8.convs.2 is upgraded to version 2.\n",
      "2022-04-07 04:53:51,440 - root - INFO - DeformConv2dPack backbone.layer3.9.convs.0 is upgraded to version 2.\n",
      "2022-04-07 04:53:51,442 - root - INFO - DeformConv2dPack backbone.layer3.9.convs.1 is upgraded to version 2.\n",
      "2022-04-07 04:53:51,445 - root - INFO - DeformConv2dPack backbone.layer3.9.convs.2 is upgraded to version 2.\n",
      "2022-04-07 04:53:51,450 - root - INFO - DeformConv2dPack backbone.layer3.10.convs.0 is upgraded to version 2.\n",
      "2022-04-07 04:53:51,452 - root - INFO - DeformConv2dPack backbone.layer3.10.convs.1 is upgraded to version 2.\n",
      "2022-04-07 04:53:51,455 - root - INFO - DeformConv2dPack backbone.layer3.10.convs.2 is upgraded to version 2.\n",
      "2022-04-07 04:53:51,460 - root - INFO - DeformConv2dPack backbone.layer3.11.convs.0 is upgraded to version 2.\n",
      "2022-04-07 04:53:51,462 - root - INFO - DeformConv2dPack backbone.layer3.11.convs.1 is upgraded to version 2.\n",
      "2022-04-07 04:53:51,465 - root - INFO - DeformConv2dPack backbone.layer3.11.convs.2 is upgraded to version 2.\n",
      "2022-04-07 04:53:51,470 - root - INFO - DeformConv2dPack backbone.layer3.12.convs.0 is upgraded to version 2.\n",
      "2022-04-07 04:53:51,472 - root - INFO - DeformConv2dPack backbone.layer3.12.convs.1 is upgraded to version 2.\n",
      "2022-04-07 04:53:51,474 - root - INFO - DeformConv2dPack backbone.layer3.12.convs.2 is upgraded to version 2.\n",
      "2022-04-07 04:53:51,480 - root - INFO - DeformConv2dPack backbone.layer3.13.convs.0 is upgraded to version 2.\n",
      "2022-04-07 04:53:51,482 - root - INFO - DeformConv2dPack backbone.layer3.13.convs.1 is upgraded to version 2.\n",
      "2022-04-07 04:53:51,485 - root - INFO - DeformConv2dPack backbone.layer3.13.convs.2 is upgraded to version 2.\n",
      "2022-04-07 04:53:51,490 - root - INFO - DeformConv2dPack backbone.layer3.14.convs.0 is upgraded to version 2.\n",
      "2022-04-07 04:53:51,492 - root - INFO - DeformConv2dPack backbone.layer3.14.convs.1 is upgraded to version 2.\n",
      "2022-04-07 04:53:51,494 - root - INFO - DeformConv2dPack backbone.layer3.14.convs.2 is upgraded to version 2.\n",
      "2022-04-07 04:53:51,500 - root - INFO - DeformConv2dPack backbone.layer3.15.convs.0 is upgraded to version 2.\n",
      "2022-04-07 04:53:51,502 - root - INFO - DeformConv2dPack backbone.layer3.15.convs.1 is upgraded to version 2.\n",
      "2022-04-07 04:53:51,504 - root - INFO - DeformConv2dPack backbone.layer3.15.convs.2 is upgraded to version 2.\n",
      "2022-04-07 04:53:51,509 - root - INFO - DeformConv2dPack backbone.layer3.16.convs.0 is upgraded to version 2.\n",
      "2022-04-07 04:53:51,512 - root - INFO - DeformConv2dPack backbone.layer3.16.convs.1 is upgraded to version 2.\n",
      "2022-04-07 04:53:51,514 - root - INFO - DeformConv2dPack backbone.layer3.16.convs.2 is upgraded to version 2.\n",
      "2022-04-07 04:53:51,519 - root - INFO - DeformConv2dPack backbone.layer3.17.convs.0 is upgraded to version 2.\n",
      "2022-04-07 04:53:51,521 - root - INFO - DeformConv2dPack backbone.layer3.17.convs.1 is upgraded to version 2.\n",
      "2022-04-07 04:53:51,524 - root - INFO - DeformConv2dPack backbone.layer3.17.convs.2 is upgraded to version 2.\n",
      "2022-04-07 04:53:51,529 - root - INFO - DeformConv2dPack backbone.layer3.18.convs.0 is upgraded to version 2.\n",
      "2022-04-07 04:53:51,531 - root - INFO - DeformConv2dPack backbone.layer3.18.convs.1 is upgraded to version 2.\n",
      "2022-04-07 04:53:51,534 - root - INFO - DeformConv2dPack backbone.layer3.18.convs.2 is upgraded to version 2.\n",
      "2022-04-07 04:53:51,539 - root - INFO - DeformConv2dPack backbone.layer3.19.convs.0 is upgraded to version 2.\n",
      "2022-04-07 04:53:51,541 - root - INFO - DeformConv2dPack backbone.layer3.19.convs.1 is upgraded to version 2.\n",
      "2022-04-07 04:53:51,556 - root - INFO - DeformConv2dPack backbone.layer3.19.convs.2 is upgraded to version 2.\n",
      "2022-04-07 04:53:51,569 - root - INFO - DeformConv2dPack backbone.layer3.20.convs.0 is upgraded to version 2.\n",
      "2022-04-07 04:53:51,572 - root - INFO - DeformConv2dPack backbone.layer3.20.convs.1 is upgraded to version 2.\n",
      "2022-04-07 04:53:51,574 - root - INFO - DeformConv2dPack backbone.layer3.20.convs.2 is upgraded to version 2.\n",
      "2022-04-07 04:53:51,584 - root - INFO - DeformConv2dPack backbone.layer3.21.convs.0 is upgraded to version 2.\n",
      "2022-04-07 04:53:51,586 - root - INFO - DeformConv2dPack backbone.layer3.21.convs.1 is upgraded to version 2.\n",
      "2022-04-07 04:53:51,589 - root - INFO - DeformConv2dPack backbone.layer3.21.convs.2 is upgraded to version 2.\n",
      "2022-04-07 04:53:51,596 - root - INFO - DeformConv2dPack backbone.layer3.22.convs.0 is upgraded to version 2.\n",
      "2022-04-07 04:53:51,599 - root - INFO - DeformConv2dPack backbone.layer3.22.convs.1 is upgraded to version 2.\n",
      "2022-04-07 04:53:51,601 - root - INFO - DeformConv2dPack backbone.layer3.22.convs.2 is upgraded to version 2.\n",
      "2022-04-07 04:53:51,608 - root - INFO - DeformConv2dPack backbone.layer4.0.convs.0 is upgraded to version 2.\n",
      "2022-04-07 04:53:51,611 - root - INFO - DeformConv2dPack backbone.layer4.0.convs.1 is upgraded to version 2.\n",
      "2022-04-07 04:53:51,613 - root - INFO - DeformConv2dPack backbone.layer4.0.convs.2 is upgraded to version 2.\n",
      "2022-04-07 04:53:51,619 - root - INFO - DeformConv2dPack backbone.layer4.1.convs.0 is upgraded to version 2.\n",
      "2022-04-07 04:53:51,621 - root - INFO - DeformConv2dPack backbone.layer4.1.convs.1 is upgraded to version 2.\n",
      "2022-04-07 04:53:51,624 - root - INFO - DeformConv2dPack backbone.layer4.1.convs.2 is upgraded to version 2.\n",
      "2022-04-07 04:53:51,629 - root - INFO - DeformConv2dPack backbone.layer4.2.convs.0 is upgraded to version 2.\n",
      "2022-04-07 04:53:51,632 - root - INFO - DeformConv2dPack backbone.layer4.2.convs.1 is upgraded to version 2.\n",
      "2022-04-07 04:53:51,634 - root - INFO - DeformConv2dPack backbone.layer4.2.convs.2 is upgraded to version 2.\n"
     ]
    }
   ],
   "source": [
    "# checkpoint path\n",
    "checkpoint_path = os.path.join(cfg.work_dir, f'{epoch}.pth')\n",
    "\n",
    "model = build_detector(cfg.model, test_cfg=cfg.get('test_cfg')) # build detector\n",
    "checkpoint = load_checkpoint(model, checkpoint_path, map_location='cpu') # ckpt load\n",
    "\n",
    "model.CLASSES = dataset.CLASSES\n",
    "model = MMDataParallel(model.cuda(), device_ids=[0])"
   ]
  },
  {
   "cell_type": "code",
   "execution_count": 17,
   "id": "c9f5c2bb",
   "metadata": {},
   "outputs": [
    {
     "name": "stdout",
     "output_type": "stream",
     "text": [
      "[>>>>>>>>>>>>>>>>>>>>>>>>>>] 4871/4871, 4.7 task/s, elapsed: 1036s, ETA:     0s"
     ]
    }
   ],
   "source": [
    "output = single_gpu_test(model, data_loader, show_score_thr=0.05) # output 계산"
   ]
  },
  {
   "cell_type": "code",
   "execution_count": 18,
   "id": "5672a0ff",
   "metadata": {},
   "outputs": [
    {
     "name": "stdout",
     "output_type": "stream",
     "text": [
      "loading annotations into memory...\n",
      "Done (t=0.01s)\n",
      "creating index...\n",
      "index created!\n"
     ]
    },
    {
     "data": {
      "text/html": [
       "<div>\n",
       "<style scoped>\n",
       "    .dataframe tbody tr th:only-of-type {\n",
       "        vertical-align: middle;\n",
       "    }\n",
       "\n",
       "    .dataframe tbody tr th {\n",
       "        vertical-align: top;\n",
       "    }\n",
       "\n",
       "    .dataframe thead th {\n",
       "        text-align: right;\n",
       "    }\n",
       "</style>\n",
       "<table border=\"1\" class=\"dataframe\">\n",
       "  <thead>\n",
       "    <tr style=\"text-align: right;\">\n",
       "      <th></th>\n",
       "      <th>PredictionString</th>\n",
       "      <th>image_id</th>\n",
       "    </tr>\n",
       "  </thead>\n",
       "  <tbody>\n",
       "    <tr>\n",
       "      <th>0</th>\n",
       "      <td>0 0.33038026 234.75864 683.5105 297.59363 749....</td>\n",
       "      <td>test/0000.jpg</td>\n",
       "    </tr>\n",
       "    <tr>\n",
       "      <th>1</th>\n",
       "      <td>0 0.37847236 757.94635 668.6219 896.78906 983....</td>\n",
       "      <td>test/0001.jpg</td>\n",
       "    </tr>\n",
       "    <tr>\n",
       "      <th>2</th>\n",
       "      <td>0 0.3041132 676.97736 230.0205 768.8658 317.24...</td>\n",
       "      <td>test/0002.jpg</td>\n",
       "    </tr>\n",
       "    <tr>\n",
       "      <th>3</th>\n",
       "      <td>0 0.36314705 0.0 0.0 970.3714 1002.4933 0 0.14...</td>\n",
       "      <td>test/0003.jpg</td>\n",
       "    </tr>\n",
       "    <tr>\n",
       "      <th>4</th>\n",
       "      <td>0 0.67279387 181.67969 261.55563 869.85126 769...</td>\n",
       "      <td>test/0004.jpg</td>\n",
       "    </tr>\n",
       "  </tbody>\n",
       "</table>\n",
       "</div>"
      ],
      "text/plain": [
       "                                    PredictionString       image_id\n",
       "0  0 0.33038026 234.75864 683.5105 297.59363 749....  test/0000.jpg\n",
       "1  0 0.37847236 757.94635 668.6219 896.78906 983....  test/0001.jpg\n",
       "2  0 0.3041132 676.97736 230.0205 768.8658 317.24...  test/0002.jpg\n",
       "3  0 0.36314705 0.0 0.0 970.3714 1002.4933 0 0.14...  test/0003.jpg\n",
       "4  0 0.67279387 181.67969 261.55563 869.85126 769...  test/0004.jpg"
      ]
     },
     "execution_count": 18,
     "metadata": {},
     "output_type": "execute_result"
    }
   ],
   "source": [
    "# submission 양식에 맞게 output 후처리\n",
    "prediction_strings = []\n",
    "file_names = []\n",
    "coco = COCO(cfg.data.test.ann_file)\n",
    "img_ids = coco.getImgIds()\n",
    "\n",
    "class_num = 10\n",
    "for i, out in enumerate(output):\n",
    "    prediction_string = ''\n",
    "    image_info = coco.loadImgs(coco.getImgIds(imgIds=i))[0]\n",
    "    for j in range(class_num):\n",
    "        for o in out[j]:\n",
    "            prediction_string += str(j) + ' ' + str(o[4]) + ' ' + str(o[0]) + ' ' + str(o[1]) + ' ' + str(\n",
    "                o[2]) + ' ' + str(o[3]) + ' '\n",
    "        \n",
    "    prediction_strings.append(prediction_string)\n",
    "    file_names.append(image_info['file_name'])\n",
    "\n",
    "\n",
    "submission = pd.DataFrame()\n",
    "submission['PredictionString'] = prediction_strings\n",
    "submission['image_id'] = file_names\n",
    "submission.to_csv(os.path.join(cfg.work_dir, f'submission_{epoch}.csv'), index=None)\n",
    "submission.head()"
   ]
  },
  {
   "cell_type": "code",
   "execution_count": null,
   "id": "86622f61-90d4-4b36-9ffb-a184463aca61",
   "metadata": {},
   "outputs": [],
   "source": []
  }
 ],
 "metadata": {
  "kernelspec": {
   "display_name": "Python 3 (ipykernel)",
   "language": "python",
   "name": "python3"
  },
  "language_info": {
   "codemirror_mode": {
    "name": "ipython",
    "version": 3
   },
   "file_extension": ".py",
   "mimetype": "text/x-python",
   "name": "python",
   "nbconvert_exporter": "python",
   "pygments_lexer": "ipython3",
   "version": "3.7.11"
  }
 },
 "nbformat": 4,
 "nbformat_minor": 5
}
